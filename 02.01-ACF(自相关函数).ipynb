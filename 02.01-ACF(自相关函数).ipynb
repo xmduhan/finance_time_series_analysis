{
 "cells": [
  {
   "cell_type": "code",
   "execution_count": 59,
   "metadata": {
    "collapsed": true
   },
   "outputs": [],
   "source": [
    "import pandas as pd\n",
    "from math import log\n",
    "from statsmodels.tsa.stattools import acf\n",
    "from statsmodels.tsa.stattools import q_stat\n",
    "%matplotlib inline"
   ]
  },
  {
   "cell_type": "code",
   "execution_count": null,
   "metadata": {
    "collapsed": true
   },
   "outputs": [],
   "source": [
    "# 1. crsp是什么鬼? (ok)\n",
    "# 2. acf 值的物理意义？\n",
    "# 3. 手工计算"
   ]
  },
  {
   "cell_type": "markdown",
   "metadata": {},
   "source": [
    "### .导入数据"
   ]
  },
  {
   "cell_type": "code",
   "execution_count": 174,
   "metadata": {
    "collapsed": false
   },
   "outputs": [
    {
     "data": {
      "text/html": [
       "<div>\n",
       "<table border=\"1\" class=\"dataframe\">\n",
       "  <thead>\n",
       "    <tr style=\"text-align: right;\">\n",
       "      <th></th>\n",
       "      <th>rtn</th>\n",
       "      <th>vwretd</th>\n",
       "      <th>ewretd</th>\n",
       "      <th>sprtrn</th>\n",
       "    </tr>\n",
       "    <tr>\n",
       "      <th>Date</th>\n",
       "      <th></th>\n",
       "      <th></th>\n",
       "      <th></th>\n",
       "      <th></th>\n",
       "    </tr>\n",
       "  </thead>\n",
       "  <tbody>\n",
       "    <tr>\n",
       "      <th>19700102</th>\n",
       "      <td>0.000686</td>\n",
       "      <td>0.012137</td>\n",
       "      <td>0.033450</td>\n",
       "      <td>0.010211</td>\n",
       "    </tr>\n",
       "    <tr>\n",
       "      <th>19700105</th>\n",
       "      <td>0.009596</td>\n",
       "      <td>0.006375</td>\n",
       "      <td>0.018947</td>\n",
       "      <td>0.004946</td>\n",
       "    </tr>\n",
       "    <tr>\n",
       "      <th>19700106</th>\n",
       "      <td>0.000679</td>\n",
       "      <td>-0.007233</td>\n",
       "      <td>-0.005776</td>\n",
       "      <td>-0.006848</td>\n",
       "    </tr>\n",
       "    <tr>\n",
       "      <th>19700107</th>\n",
       "      <td>0.000678</td>\n",
       "      <td>-0.001272</td>\n",
       "      <td>0.003559</td>\n",
       "      <td>-0.002047</td>\n",
       "    </tr>\n",
       "    <tr>\n",
       "      <th>19700108</th>\n",
       "      <td>0.002034</td>\n",
       "      <td>0.000564</td>\n",
       "      <td>0.002890</td>\n",
       "      <td>0.000540</td>\n",
       "    </tr>\n",
       "  </tbody>\n",
       "</table>\n",
       "</div>"
      ],
      "text/plain": [
       "               rtn    vwretd    ewretd    sprtrn\n",
       "Date                                            \n",
       "19700102  0.000686  0.012137  0.033450  0.010211\n",
       "19700105  0.009596  0.006375  0.018947  0.004946\n",
       "19700106  0.000679 -0.007233 -0.005776 -0.006848\n",
       "19700107  0.000678 -0.001272  0.003559 -0.002047\n",
       "19700108  0.002034  0.000564  0.002890  0.000540"
      ]
     },
     "execution_count": 174,
     "metadata": {},
     "output_type": "execute_result"
    }
   ],
   "source": [
    "df = pd.read_csv('data/d-ibm3dx7008.txt', sep='\\t')\n",
    "df.columns = df.columns.str.strip()\n",
    "df = df.set_index('Date')\n",
    "df.head()"
   ]
  },
  {
   "cell_type": "markdown",
   "metadata": {},
   "source": [
    "### .IBM\n",
    "IBM收益序列没有自相关性"
   ]
  },
  {
   "cell_type": "code",
   "execution_count": 175,
   "metadata": {
    "collapsed": false
   },
   "outputs": [],
   "source": [
    "Rt = df['rtn'].fillna(0)\n",
    "rt = (1 + Rt).apply(log)\n",
    "acfs, qstat, pvalue = acf(rt, nlags=100, qstat=True)\n",
    "result = pd.DataFrame({'acf': acfs[1:], 'qstat': qstat, 'pvalue': pvalue})"
   ]
  },
  {
   "cell_type": "code",
   "execution_count": 171,
   "metadata": {
    "collapsed": false
   },
   "outputs": [
    {
     "data": {
      "text/html": [
       "<div>\n",
       "<table border=\"1\" class=\"dataframe\">\n",
       "  <thead>\n",
       "    <tr style=\"text-align: right;\">\n",
       "      <th></th>\n",
       "      <th>acf</th>\n",
       "      <th>pvalue</th>\n",
       "      <th>qstat</th>\n",
       "    </tr>\n",
       "  </thead>\n",
       "  <tbody>\n",
       "    <tr>\n",
       "      <th>0</th>\n",
       "      <td>-0.019864</td>\n",
       "      <td>0.048700</td>\n",
       "      <td>3.885673</td>\n",
       "    </tr>\n",
       "    <tr>\n",
       "      <th>1</th>\n",
       "      <td>-0.019102</td>\n",
       "      <td>0.023760</td>\n",
       "      <td>7.479488</td>\n",
       "    </tr>\n",
       "    <tr>\n",
       "      <th>2</th>\n",
       "      <td>0.005991</td>\n",
       "      <td>0.049591</td>\n",
       "      <td>7.833056</td>\n",
       "    </tr>\n",
       "    <tr>\n",
       "      <th>3</th>\n",
       "      <td>0.003252</td>\n",
       "      <td>0.093906</td>\n",
       "      <td>7.937207</td>\n",
       "    </tr>\n",
       "    <tr>\n",
       "      <th>4</th>\n",
       "      <td>-0.006928</td>\n",
       "      <td>0.135034</td>\n",
       "      <td>8.410143</td>\n",
       "    </tr>\n",
       "    <tr>\n",
       "      <th>5</th>\n",
       "      <td>0.009017</td>\n",
       "      <td>0.162042</td>\n",
       "      <td>9.211245</td>\n",
       "    </tr>\n",
       "    <tr>\n",
       "      <th>6</th>\n",
       "      <td>0.009092</td>\n",
       "      <td>0.187117</td>\n",
       "      <td>10.025777</td>\n",
       "    </tr>\n",
       "    <tr>\n",
       "      <th>7</th>\n",
       "      <td>-0.003832</td>\n",
       "      <td>0.253263</td>\n",
       "      <td>10.170486</td>\n",
       "    </tr>\n",
       "    <tr>\n",
       "      <th>8</th>\n",
       "      <td>0.007248</td>\n",
       "      <td>0.297686</td>\n",
       "      <td>10.688230</td>\n",
       "    </tr>\n",
       "    <tr>\n",
       "      <th>9</th>\n",
       "      <td>0.008661</td>\n",
       "      <td>0.325191</td>\n",
       "      <td>11.427559</td>\n",
       "    </tr>\n",
       "  </tbody>\n",
       "</table>\n",
       "</div>"
      ],
      "text/plain": [
       "        acf    pvalue      qstat\n",
       "0 -0.019864  0.048700   3.885673\n",
       "1 -0.019102  0.023760   7.479488\n",
       "2  0.005991  0.049591   7.833056\n",
       "3  0.003252  0.093906   7.937207\n",
       "4 -0.006928  0.135034   8.410143\n",
       "5  0.009017  0.162042   9.211245\n",
       "6  0.009092  0.187117  10.025777\n",
       "7 -0.003832  0.253263  10.170486\n",
       "8  0.007248  0.297686  10.688230\n",
       "9  0.008661  0.325191  11.427559"
      ]
     },
     "execution_count": 171,
     "metadata": {},
     "output_type": "execute_result"
    }
   ],
   "source": [
    "result.head(10)"
   ]
  },
  {
   "cell_type": "markdown",
   "metadata": {},
   "source": [
    "### .价值加权指数\n",
    "价值加权指数有显著的收益自相关性(pvalue极小, qstat值大) <br>\n",
    "注意: 是由价值加权指数CRSP计算出来的一个指标, 和IBM无关"
   ]
  },
  {
   "cell_type": "code",
   "execution_count": 172,
   "metadata": {
    "collapsed": false
   },
   "outputs": [],
   "source": [
    "Rt = df['ewretd'].fillna(0)\n",
    "rt = (1 + Rt).apply(log)\n",
    "acfs, qstat, pvalue = acf(rt, nlags=100, qstat=True)\n",
    "result = pd.DataFrame({'acf': acfs[1:], 'qstat': qstat, 'pvalue': pvalue})"
   ]
  },
  {
   "cell_type": "code",
   "execution_count": 173,
   "metadata": {
    "collapsed": false
   },
   "outputs": [
    {
     "data": {
      "text/html": [
       "<div>\n",
       "<table border=\"1\" class=\"dataframe\">\n",
       "  <thead>\n",
       "    <tr style=\"text-align: right;\">\n",
       "      <th></th>\n",
       "      <th>acf</th>\n",
       "      <th>pvalue</th>\n",
       "      <th>qstat</th>\n",
       "    </tr>\n",
       "  </thead>\n",
       "  <tbody>\n",
       "    <tr>\n",
       "      <th>0</th>\n",
       "      <td>0.262954</td>\n",
       "      <td>4.181459e-150</td>\n",
       "      <td>680.936230</td>\n",
       "    </tr>\n",
       "    <tr>\n",
       "      <th>1</th>\n",
       "      <td>0.072574</td>\n",
       "      <td>7.451149e-160</td>\n",
       "      <td>732.810493</td>\n",
       "    </tr>\n",
       "    <tr>\n",
       "      <th>2</th>\n",
       "      <td>0.110427</td>\n",
       "      <td>1.438803e-184</td>\n",
       "      <td>852.923119</td>\n",
       "    </tr>\n",
       "    <tr>\n",
       "      <th>3</th>\n",
       "      <td>0.081170</td>\n",
       "      <td>2.285771e-197</td>\n",
       "      <td>917.827197</td>\n",
       "    </tr>\n",
       "    <tr>\n",
       "      <th>4</th>\n",
       "      <td>0.059658</td>\n",
       "      <td>9.486630e-204</td>\n",
       "      <td>952.890939</td>\n",
       "    </tr>\n",
       "    <tr>\n",
       "      <th>5</th>\n",
       "      <td>0.058966</td>\n",
       "      <td>5.378382e-210</td>\n",
       "      <td>987.149471</td>\n",
       "    </tr>\n",
       "    <tr>\n",
       "      <th>6</th>\n",
       "      <td>0.044948</td>\n",
       "      <td>3.596289e-213</td>\n",
       "      <td>1007.057637</td>\n",
       "    </tr>\n",
       "    <tr>\n",
       "      <th>7</th>\n",
       "      <td>0.046840</td>\n",
       "      <td>9.619460e-217</td>\n",
       "      <td>1028.679818</td>\n",
       "    </tr>\n",
       "    <tr>\n",
       "      <th>8</th>\n",
       "      <td>0.041194</td>\n",
       "      <td>2.782081e-219</td>\n",
       "      <td>1045.404897</td>\n",
       "    </tr>\n",
       "    <tr>\n",
       "      <th>9</th>\n",
       "      <td>0.033718</td>\n",
       "      <td>1.186684e-220</td>\n",
       "      <td>1056.611580</td>\n",
       "    </tr>\n",
       "  </tbody>\n",
       "</table>\n",
       "</div>"
      ],
      "text/plain": [
       "        acf         pvalue        qstat\n",
       "0  0.262954  4.181459e-150   680.936230\n",
       "1  0.072574  7.451149e-160   732.810493\n",
       "2  0.110427  1.438803e-184   852.923119\n",
       "3  0.081170  2.285771e-197   917.827197\n",
       "4  0.059658  9.486630e-204   952.890939\n",
       "5  0.058966  5.378382e-210   987.149471\n",
       "6  0.044948  3.596289e-213  1007.057637\n",
       "7  0.046840  9.619460e-217  1028.679818\n",
       "8  0.041194  2.782081e-219  1045.404897\n",
       "9  0.033718  1.186684e-220  1056.611580"
      ]
     },
     "execution_count": 173,
     "metadata": {},
     "output_type": "execute_result"
    }
   ],
   "source": [
    "result.head(10)"
   ]
  }
 ],
 "metadata": {
  "kernelspec": {
   "display_name": "Python 2",
   "language": "python",
   "name": "python2"
  },
  "language_info": {
   "codemirror_mode": {
    "name": "ipython",
    "version": 2
   },
   "file_extension": ".py",
   "mimetype": "text/x-python",
   "name": "python",
   "nbconvert_exporter": "python",
   "pygments_lexer": "ipython2",
   "version": "2.7.12"
  }
 },
 "nbformat": 4,
 "nbformat_minor": 1
}
